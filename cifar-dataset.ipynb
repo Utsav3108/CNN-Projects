{
 "cells": [
  {
   "cell_type": "code",
   "execution_count": 1,
   "id": "cecf2639",
   "metadata": {
    "_cell_guid": "b1076dfc-b9ad-4769-8c92-a6c4dae69d19",
    "_uuid": "8f2839f25d086af736a60e9eeb907d3b93b6e0e5",
    "execution": {
     "iopub.execute_input": "2023-04-29T12:27:06.861726Z",
     "iopub.status.busy": "2023-04-29T12:27:06.861309Z",
     "iopub.status.idle": "2023-04-29T12:27:14.770742Z",
     "shell.execute_reply": "2023-04-29T12:27:14.769226Z"
    },
    "papermill": {
     "duration": 7.918934,
     "end_time": "2023-04-29T12:27:14.773807",
     "exception": false,
     "start_time": "2023-04-29T12:27:06.854873",
     "status": "completed"
    },
    "tags": []
   },
   "outputs": [],
   "source": [
    "from keras.datasets import cifar10\n",
    "from keras.models import Sequential\n",
    "from keras.layers import Conv2D, MaxPooling2D, Flatten, Dense, Dropout, BatchNormalization\n",
    "from keras.optimizers import SGD\n",
    "from keras.utils import to_categorical\n"
   ]
  },
  {
   "cell_type": "markdown",
   "id": "59fa2d95",
   "metadata": {
    "papermill": {
     "duration": 0.003248,
     "end_time": "2023-04-29T12:27:14.781294",
     "exception": false,
     "start_time": "2023-04-29T12:27:14.778046",
     "status": "completed"
    },
    "tags": []
   },
   "source": [
    "# Cifar Dataset\n",
    "It is dataset of 60000 images which contains images of Aeroplane, Dogs, Cats, Birds etc like 10 output classes. Each images are 32 x 32 dimension pixel image."
   ]
  },
  {
   "cell_type": "markdown",
   "id": "96871666",
   "metadata": {
    "papermill": {
     "duration": 0.003315,
     "end_time": "2023-04-29T12:27:14.788159",
     "exception": false,
     "start_time": "2023-04-29T12:27:14.784844",
     "status": "completed"
    },
    "tags": []
   },
   "source": [
    "### Load the Data"
   ]
  },
  {
   "cell_type": "code",
   "execution_count": 2,
   "id": "0dfc47be",
   "metadata": {
    "execution": {
     "iopub.execute_input": "2023-04-29T12:27:14.798095Z",
     "iopub.status.busy": "2023-04-29T12:27:14.797238Z",
     "iopub.status.idle": "2023-04-29T12:27:24.882215Z",
     "shell.execute_reply": "2023-04-29T12:27:24.880848Z"
    },
    "papermill": {
     "duration": 10.093587,
     "end_time": "2023-04-29T12:27:24.885246",
     "exception": false,
     "start_time": "2023-04-29T12:27:14.791659",
     "status": "completed"
    },
    "tags": []
   },
   "outputs": [
    {
     "name": "stdout",
     "output_type": "stream",
     "text": [
      "Downloading data from https://www.cs.toronto.edu/~kriz/cifar-10-python.tar.gz\n",
      "170498071/170498071 [==============================] - 6s 0us/step\n"
     ]
    }
   ],
   "source": [
    "(X_train, y_train), (X_test,y_test) = cifar10.load_data()"
   ]
  },
  {
   "cell_type": "code",
   "execution_count": 3,
   "id": "93978001",
   "metadata": {
    "execution": {
     "iopub.execute_input": "2023-04-29T12:27:24.906421Z",
     "iopub.status.busy": "2023-04-29T12:27:24.905561Z",
     "iopub.status.idle": "2023-04-29T12:27:24.915171Z",
     "shell.execute_reply": "2023-04-29T12:27:24.913785Z"
    },
    "papermill": {
     "duration": 0.022958,
     "end_time": "2023-04-29T12:27:24.917755",
     "exception": false,
     "start_time": "2023-04-29T12:27:24.894797",
     "status": "completed"
    },
    "tags": []
   },
   "outputs": [
    {
     "name": "stdout",
     "output_type": "stream",
     "text": [
      "(50000, 32, 32, 3)\n",
      "Target variable:  [0 1 2 3 4 5 6 7 8 9]\n"
     ]
    }
   ],
   "source": [
    "import numpy as np\n",
    "print(X_train.shape)\n",
    "print(\"Target variable: \",np.unique(y_train))"
   ]
  },
  {
   "cell_type": "markdown",
   "id": "04ad4abc",
   "metadata": {
    "papermill": {
     "duration": 0.008944,
     "end_time": "2023-04-29T12:27:24.936239",
     "exception": false,
     "start_time": "2023-04-29T12:27:24.927295",
     "status": "completed"
    },
    "tags": []
   },
   "source": [
    "Training set will have 50000 images, 32 x 32 pixels, 3 as there are three channels i.e Red Blue Green"
   ]
  },
  {
   "cell_type": "markdown",
   "id": "3ea21ca4",
   "metadata": {
    "papermill": {
     "duration": 0.008928,
     "end_time": "2023-04-29T12:27:24.954438",
     "exception": false,
     "start_time": "2023-04-29T12:27:24.945510",
     "status": "completed"
    },
    "tags": []
   },
   "source": [
    "### Preprocessing the Data with One hot encoding "
   ]
  },
  {
   "cell_type": "code",
   "execution_count": 4,
   "id": "3c0c0b58",
   "metadata": {
    "execution": {
     "iopub.execute_input": "2023-04-29T12:27:24.975271Z",
     "iopub.status.busy": "2023-04-29T12:27:24.974797Z",
     "iopub.status.idle": "2023-04-29T12:27:25.532362Z",
     "shell.execute_reply": "2023-04-29T12:27:25.530926Z"
    },
    "papermill": {
     "duration": 0.571595,
     "end_time": "2023-04-29T12:27:25.535341",
     "exception": false,
     "start_time": "2023-04-29T12:27:24.963746",
     "status": "completed"
    },
    "tags": []
   },
   "outputs": [],
   "source": [
    "y_train = to_categorical(y_train)\n",
    "y_test = to_categorical(y_test)\n",
    "\n",
    "#Normalize the Training data\n",
    "X_train = X_train / 255\n",
    "X_test = X_test / 255"
   ]
  },
  {
   "cell_type": "markdown",
   "id": "c75bf640",
   "metadata": {
    "papermill": {
     "duration": 0.008891,
     "end_time": "2023-04-29T12:27:25.553392",
     "exception": false,
     "start_time": "2023-04-29T12:27:25.544501",
     "status": "completed"
    },
    "tags": []
   },
   "source": [
    "### CNN Model Construction"
   ]
  },
  {
   "cell_type": "code",
   "execution_count": 5,
   "id": "5b9f6f18",
   "metadata": {
    "execution": {
     "iopub.execute_input": "2023-04-29T12:27:25.573450Z",
     "iopub.status.busy": "2023-04-29T12:27:25.572969Z",
     "iopub.status.idle": "2023-04-29T12:27:25.836075Z",
     "shell.execute_reply": "2023-04-29T12:27:25.834812Z"
    },
    "papermill": {
     "duration": 0.276557,
     "end_time": "2023-04-29T12:27:25.839063",
     "exception": false,
     "start_time": "2023-04-29T12:27:25.562506",
     "status": "completed"
    },
    "tags": []
   },
   "outputs": [],
   "source": [
    "model = Sequential()\n",
    "\n",
    "model.add(Conv2D(32, (3,3), activation='relu', kernel_initializer='he_uniform', padding='same', input_shape=(32,32,3)))\n",
    "model.add(Conv2D(32, (3,3), activation='relu', kernel_initializer='he_uniform', padding='same'))\n",
    "model.add(MaxPooling2D((2,2)))\n",
    "          \n",
    "model.add(Conv2D(64, (3,3), activation='relu', kernel_initializer='he_uniform', padding='same'))\n",
    "model.add(MaxPooling2D((2,2)))\n",
    "                    \n",
    "model.add(Conv2D(128, (3,3), activation='relu', kernel_initializer='he_uniform', padding='same'))\n",
    "model.add(MaxPooling2D((2,2)))\n",
    "          \n",
    "model.add(Flatten())\n",
    "\n",
    "model.add(Dense(128, activation='relu', kernel_initializer='he_uniform'))\n",
    "model.add(Dense(10, activation='softmax'))"
   ]
  },
  {
   "cell_type": "code",
   "execution_count": 6,
   "id": "3ab4bfd0",
   "metadata": {
    "execution": {
     "iopub.execute_input": "2023-04-29T12:27:25.859476Z",
     "iopub.status.busy": "2023-04-29T12:27:25.859012Z",
     "iopub.status.idle": "2023-04-29T14:03:59.922426Z",
     "shell.execute_reply": "2023-04-29T14:03:59.920557Z"
    },
    "papermill": {
     "duration": 5794.077021,
     "end_time": "2023-04-29T14:03:59.925379",
     "exception": false,
     "start_time": "2023-04-29T12:27:25.848358",
     "status": "completed"
    },
    "tags": []
   },
   "outputs": [
    {
     "name": "stderr",
     "output_type": "stream",
     "text": [
      "/opt/conda/lib/python3.7/site-packages/keras/optimizers/optimizer_v2/gradient_descent.py:114: UserWarning: The `lr` argument is deprecated, use `learning_rate` instead.\n",
      "  super().__init__(name, **kwargs)\n"
     ]
    },
    {
     "name": "stdout",
     "output_type": "stream",
     "text": [
      "Epoch 1/50\n",
      "782/782 [==============================] - 116s 147ms/step - loss: 1.6681 - accuracy: 0.3939 - val_loss: 1.4045 - val_accuracy: 0.4956\n",
      "Epoch 2/50\n",
      "782/782 [==============================] - 114s 146ms/step - loss: 1.2607 - accuracy: 0.5558 - val_loss: 1.1366 - val_accuracy: 0.5989\n",
      "Epoch 3/50\n",
      "782/782 [==============================] - 115s 147ms/step - loss: 1.0689 - accuracy: 0.6235 - val_loss: 1.0256 - val_accuracy: 0.6407\n",
      "Epoch 4/50\n",
      "782/782 [==============================] - 115s 147ms/step - loss: 0.9527 - accuracy: 0.6651 - val_loss: 0.9665 - val_accuracy: 0.6595\n",
      "Epoch 5/50\n",
      "782/782 [==============================] - 115s 146ms/step - loss: 0.8636 - accuracy: 0.7000 - val_loss: 0.8983 - val_accuracy: 0.6888\n",
      "Epoch 6/50\n",
      "782/782 [==============================] - 115s 147ms/step - loss: 0.7895 - accuracy: 0.7235 - val_loss: 0.8925 - val_accuracy: 0.6892\n",
      "Epoch 7/50\n",
      "782/782 [==============================] - 115s 147ms/step - loss: 0.7172 - accuracy: 0.7510 - val_loss: 0.8764 - val_accuracy: 0.7023\n",
      "Epoch 8/50\n",
      "782/782 [==============================] - 115s 147ms/step - loss: 0.6603 - accuracy: 0.7686 - val_loss: 0.8419 - val_accuracy: 0.7165\n",
      "Epoch 9/50\n",
      "782/782 [==============================] - 115s 147ms/step - loss: 0.5964 - accuracy: 0.7896 - val_loss: 0.8313 - val_accuracy: 0.7215\n",
      "Epoch 10/50\n",
      "782/782 [==============================] - 115s 148ms/step - loss: 0.5468 - accuracy: 0.8084 - val_loss: 0.8332 - val_accuracy: 0.7250\n",
      "Epoch 11/50\n",
      "782/782 [==============================] - 115s 147ms/step - loss: 0.4997 - accuracy: 0.8246 - val_loss: 0.8257 - val_accuracy: 0.7309\n",
      "Epoch 12/50\n",
      "782/782 [==============================] - 116s 148ms/step - loss: 0.4472 - accuracy: 0.8443 - val_loss: 0.8453 - val_accuracy: 0.7280\n",
      "Epoch 13/50\n",
      "782/782 [==============================] - 115s 147ms/step - loss: 0.4008 - accuracy: 0.8602 - val_loss: 0.9022 - val_accuracy: 0.7271\n",
      "Epoch 14/50\n",
      "782/782 [==============================] - 115s 148ms/step - loss: 0.3593 - accuracy: 0.8742 - val_loss: 0.9255 - val_accuracy: 0.7313\n",
      "Epoch 15/50\n",
      "782/782 [==============================] - 116s 148ms/step - loss: 0.3249 - accuracy: 0.8857 - val_loss: 0.9513 - val_accuracy: 0.7250\n",
      "Epoch 16/50\n",
      "782/782 [==============================] - 115s 147ms/step - loss: 0.2741 - accuracy: 0.9032 - val_loss: 1.0190 - val_accuracy: 0.7242\n",
      "Epoch 17/50\n",
      "782/782 [==============================] - 116s 148ms/step - loss: 0.2433 - accuracy: 0.9148 - val_loss: 1.0358 - val_accuracy: 0.7228\n",
      "Epoch 18/50\n",
      "782/782 [==============================] - 116s 148ms/step - loss: 0.2025 - accuracy: 0.9294 - val_loss: 1.1512 - val_accuracy: 0.7276\n",
      "Epoch 19/50\n",
      "782/782 [==============================] - 115s 147ms/step - loss: 0.1678 - accuracy: 0.9417 - val_loss: 1.2045 - val_accuracy: 0.7279\n",
      "Epoch 20/50\n",
      "782/782 [==============================] - 116s 148ms/step - loss: 0.1464 - accuracy: 0.9491 - val_loss: 1.3474 - val_accuracy: 0.7216\n",
      "Epoch 21/50\n",
      "782/782 [==============================] - 116s 149ms/step - loss: 0.1319 - accuracy: 0.9539 - val_loss: 1.2651 - val_accuracy: 0.7239\n",
      "Epoch 22/50\n",
      "782/782 [==============================] - 115s 147ms/step - loss: 0.1082 - accuracy: 0.9631 - val_loss: 1.4115 - val_accuracy: 0.7206\n",
      "Epoch 23/50\n",
      "782/782 [==============================] - 116s 149ms/step - loss: 0.0954 - accuracy: 0.9667 - val_loss: 1.4342 - val_accuracy: 0.7211\n",
      "Epoch 24/50\n",
      "782/782 [==============================] - 116s 148ms/step - loss: 0.0763 - accuracy: 0.9746 - val_loss: 1.5589 - val_accuracy: 0.7255\n",
      "Epoch 25/50\n",
      "782/782 [==============================] - 115s 148ms/step - loss: 0.0631 - accuracy: 0.9788 - val_loss: 1.7130 - val_accuracy: 0.7147\n",
      "Epoch 26/50\n",
      "782/782 [==============================] - 116s 148ms/step - loss: 0.0454 - accuracy: 0.9860 - val_loss: 1.7243 - val_accuracy: 0.7323\n",
      "Epoch 27/50\n",
      "782/782 [==============================] - 116s 148ms/step - loss: 0.0546 - accuracy: 0.9816 - val_loss: 1.7288 - val_accuracy: 0.7179\n",
      "Epoch 28/50\n",
      "782/782 [==============================] - 116s 148ms/step - loss: 0.0741 - accuracy: 0.9734 - val_loss: 1.7241 - val_accuracy: 0.7229\n",
      "Epoch 29/50\n",
      "782/782 [==============================] - 121s 155ms/step - loss: 0.0611 - accuracy: 0.9794 - val_loss: 1.8514 - val_accuracy: 0.7170\n",
      "Epoch 30/50\n",
      "782/782 [==============================] - 115s 148ms/step - loss: 0.0566 - accuracy: 0.9801 - val_loss: 1.8457 - val_accuracy: 0.7156\n",
      "Epoch 31/50\n",
      "782/782 [==============================] - 116s 149ms/step - loss: 0.0319 - accuracy: 0.9897 - val_loss: 2.0203 - val_accuracy: 0.7166\n",
      "Epoch 32/50\n",
      "782/782 [==============================] - 116s 148ms/step - loss: 0.0324 - accuracy: 0.9893 - val_loss: 1.9308 - val_accuracy: 0.7307\n",
      "Epoch 33/50\n",
      "782/782 [==============================] - 117s 149ms/step - loss: 0.0137 - accuracy: 0.9969 - val_loss: 2.0694 - val_accuracy: 0.7288\n",
      "Epoch 34/50\n",
      "782/782 [==============================] - 115s 148ms/step - loss: 0.0083 - accuracy: 0.9981 - val_loss: 2.0757 - val_accuracy: 0.7326\n",
      "Epoch 35/50\n",
      "782/782 [==============================] - 116s 148ms/step - loss: 0.0025 - accuracy: 0.9997 - val_loss: 2.1423 - val_accuracy: 0.7397\n",
      "Epoch 36/50\n",
      "782/782 [==============================] - 116s 148ms/step - loss: 7.8377e-04 - accuracy: 1.0000 - val_loss: 2.2062 - val_accuracy: 0.7396\n",
      "Epoch 37/50\n",
      "782/782 [==============================] - 116s 148ms/step - loss: 5.7062e-04 - accuracy: 1.0000 - val_loss: 2.2472 - val_accuracy: 0.7398\n",
      "Epoch 38/50\n",
      "782/782 [==============================] - 116s 149ms/step - loss: 4.7963e-04 - accuracy: 1.0000 - val_loss: 2.2840 - val_accuracy: 0.7395\n",
      "Epoch 39/50\n",
      "782/782 [==============================] - 117s 149ms/step - loss: 4.1849e-04 - accuracy: 1.0000 - val_loss: 2.3074 - val_accuracy: 0.7400\n",
      "Epoch 40/50\n",
      "782/782 [==============================] - 115s 147ms/step - loss: 3.7413e-04 - accuracy: 1.0000 - val_loss: 2.3315 - val_accuracy: 0.7390\n",
      "Epoch 41/50\n",
      "782/782 [==============================] - 117s 149ms/step - loss: 3.4032e-04 - accuracy: 1.0000 - val_loss: 2.3557 - val_accuracy: 0.7397\n",
      "Epoch 42/50\n",
      "782/782 [==============================] - 116s 149ms/step - loss: 3.1337e-04 - accuracy: 1.0000 - val_loss: 2.3741 - val_accuracy: 0.7396\n",
      "Epoch 43/50\n",
      "782/782 [==============================] - 116s 149ms/step - loss: 2.9049e-04 - accuracy: 1.0000 - val_loss: 2.3885 - val_accuracy: 0.7406\n",
      "Epoch 44/50\n",
      "782/782 [==============================] - 116s 149ms/step - loss: 2.7205e-04 - accuracy: 1.0000 - val_loss: 2.4084 - val_accuracy: 0.7401\n",
      "Epoch 45/50\n",
      "782/782 [==============================] - 117s 150ms/step - loss: 2.5607e-04 - accuracy: 1.0000 - val_loss: 2.4219 - val_accuracy: 0.7412\n",
      "Epoch 46/50\n",
      "782/782 [==============================] - 116s 148ms/step - loss: 2.4157e-04 - accuracy: 1.0000 - val_loss: 2.4363 - val_accuracy: 0.7408\n",
      "Epoch 47/50\n",
      "782/782 [==============================] - 117s 150ms/step - loss: 2.2862e-04 - accuracy: 1.0000 - val_loss: 2.4478 - val_accuracy: 0.7406\n",
      "Epoch 48/50\n",
      "782/782 [==============================] - 116s 149ms/step - loss: 2.1727e-04 - accuracy: 1.0000 - val_loss: 2.4619 - val_accuracy: 0.7413\n",
      "Epoch 49/50\n",
      "782/782 [==============================] - 118s 150ms/step - loss: 2.0784e-04 - accuracy: 1.0000 - val_loss: 2.4725 - val_accuracy: 0.7414\n",
      "Epoch 50/50\n",
      "782/782 [==============================] - 117s 149ms/step - loss: 1.9795e-04 - accuracy: 1.0000 - val_loss: 2.4821 - val_accuracy: 0.7414\n"
     ]
    }
   ],
   "source": [
    "#Trainning the model\n",
    "optimizer = SGD(lr=0.001, momentum=0.95)\n",
    "model.compile(optimizer=optimizer, loss='categorical_crossentropy', metrics=['accuracy'])\n",
    "history = model.fit(X_train, y_train, epochs=50, batch_size=64, validation_data=(X_test, y_test), verbose=1 )"
   ]
  },
  {
   "cell_type": "code",
   "execution_count": 7,
   "id": "52ed9111",
   "metadata": {
    "execution": {
     "iopub.execute_input": "2023-04-29T14:04:05.191168Z",
     "iopub.status.busy": "2023-04-29T14:04:05.190286Z",
     "iopub.status.idle": "2023-04-29T14:04:11.181401Z",
     "shell.execute_reply": "2023-04-29T14:04:11.179678Z"
    },
    "papermill": {
     "duration": 8.638913,
     "end_time": "2023-04-29T14:04:11.183970",
     "exception": false,
     "start_time": "2023-04-29T14:04:02.545057",
     "status": "completed"
    },
    "tags": []
   },
   "outputs": [
    {
     "name": "stdout",
     "output_type": "stream",
     "text": [
      "Model accuracy:  74.14000034332275\n"
     ]
    }
   ],
   "source": [
    "#Model Evaluation\n",
    "model_result = model.evaluate(X_test, y_test, verbose=0)\n",
    "print(\"Model accuracy: \", model_result[1]*100)"
   ]
  }
 ],
 "metadata": {
  "kernelspec": {
   "display_name": "Python 3",
   "language": "python",
   "name": "python3"
  },
  "language_info": {
   "codemirror_mode": {
    "name": "ipython",
    "version": 3
   },
   "file_extension": ".py",
   "mimetype": "text/x-python",
   "name": "python",
   "nbconvert_exporter": "python",
   "pygments_lexer": "ipython3",
   "version": "3.7.12"
  },
  "papermill": {
   "default_parameters": {},
   "duration": 5841.408245,
   "end_time": "2023-04-29T14:04:17.014269",
   "environment_variables": {},
   "exception": null,
   "input_path": "__notebook__.ipynb",
   "output_path": "__notebook__.ipynb",
   "parameters": {},
   "start_time": "2023-04-29T12:26:55.606024",
   "version": "2.4.0"
  }
 },
 "nbformat": 4,
 "nbformat_minor": 5
}

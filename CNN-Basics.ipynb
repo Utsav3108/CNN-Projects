{
 "cells": [
  {
   "attachments": {},
   "cell_type": "markdown",
   "metadata": {},
   "source": [
    "# CNN Basics\n"
   ]
  },
  {
   "attachments": {},
   "cell_type": "markdown",
   "metadata": {},
   "source": [
    "### Some Points to remember "
   ]
  },
  {
   "attachments": {},
   "cell_type": "markdown",
   "metadata": {},
   "source": [
    "`CNN` is known as Convulational Neural Networks\n",
    " - Unlike Densely connected Neural Networks, In CNN every neurons are not connected with each other. Making it Fast in Procedure!\n",
    " - CNN works on one assumption, The inputs are Images. So we can encode several properties into the Architecture.\n",
    " - As discussed earlier, every neuron in one layer doesnot connects to neuron in another layer.\n",
    " - Under the Hood in uses the Standard Neural Network. But in the beginning it transforms the data in order to achieve the best accuracy possible!\n",
    " - It is important to note here that CNN can outperform some Machine learning Techniques like `SVM`.\n",
    "\n"
   ]
  },
  {
   "attachments": {},
   "cell_type": "markdown",
   "metadata": {},
   "source": [
    "### Steps For CNN"
   ]
  },
  {
   "attachments": {},
   "cell_type": "markdown",
   "metadata": {},
   "source": [
    "<img src=\"CNN.png\"/>"
   ]
  },
  {
   "attachments": {},
   "cell_type": "markdown",
   "metadata": {},
   "source": [
    "There are 3 important steps CNN works in:\n",
    "1. Convulational Operation\n",
    "2. Pooling\n",
    "3. Flattening"
   ]
  },
  {
   "attachments": {},
   "cell_type": "markdown",
   "metadata": {},
   "source": [
    "### Convulation Operation:\n"
   ]
  },
  {
   "attachments": {},
   "cell_type": "markdown",
   "metadata": {},
   "source": [
    "Convulational Operation is performed in order to reduce the size of the image. It keeps important information intact while reducing the size of the image. \n",
    "In Convulational Operation a kernel or Feature Detector, a relatively small matrix than main image, is used to perform computation over the main image matrix. \n",
    "\n",
    "Following equation is used to perform Convulation:\n",
    "\n",
    "<img src=\"eqnconv2.gif\"/>\n",
    "\n"
   ]
  },
  {
   "attachments": {},
   "cell_type": "markdown",
   "metadata": {},
   "source": [
    "<img src=\"Convulation.jfif\"/>"
   ]
  },
  {
   "attachments": {},
   "cell_type": "markdown",
   "metadata": {},
   "source": [
    "### Padding"
   ]
  },
  {
   "attachments": {},
   "cell_type": "markdown",
   "metadata": {},
   "source": [
    "There is one concept in Image Processing called Padding. It addresses the problem of border effect problem. Generally what happens, when we apply convulation the pixels of image at border doesnot get much involvement in the process. Hence an extra layer is added all around the image matrix"
   ]
  },
  {
   "attachments": {},
   "cell_type": "markdown",
   "metadata": {},
   "source": [
    "<img src=\"Padding.png\">"
   ]
  },
  {
   "attachments": {},
   "cell_type": "markdown",
   "metadata": {},
   "source": [
    "### Pooling"
   ]
  },
  {
   "attachments": {},
   "cell_type": "markdown",
   "metadata": {},
   "source": [
    "After we are done with Convulation Operation, we apply pooling. There are two types pooling: 1. Max Pooling and 2. Average Pooling. It is evident from the names itself that max pooling tends to capture maximum value and Average pooling averages the values from specified area of Image matrix."
   ]
  },
  {
   "attachments": {},
   "cell_type": "markdown",
   "metadata": {},
   "source": [
    "<img src=\"Pooling.png\"/>"
   ]
  },
  {
   "attachments": {},
   "cell_type": "markdown",
   "metadata": {},
   "source": [
    "### Flattening"
   ]
  },
  {
   "attachments": {},
   "cell_type": "markdown",
   "metadata": {},
   "source": [
    "Now we are just one step away from inputing our image into Neural network. This step is called flatening. Flatening is simply to flatten image matrix so that we use it as an input for Neural network."
   ]
  },
  {
   "attachments": {},
   "cell_type": "markdown",
   "metadata": {},
   "source": [
    "<img src=\"FLattening.jfif\"/>"
   ]
  },
  {
   "attachments": {},
   "cell_type": "markdown",
   "metadata": {},
   "source": [
    "### References"
   ]
  },
  {
   "attachments": {},
   "cell_type": "markdown",
   "metadata": {},
   "source": [
    "To understand more about Image Processing refer this simple Website"
   ]
  },
  {
   "attachments": {},
   "cell_type": "markdown",
   "metadata": {},
   "source": [
    "https://homepages.inf.ed.ac.uk/rbf/HIPR2/convolve.htm#:~:text=Convolution%20is%20a%20simple%20mathematical,numbers%20of%20the%20same%20dimensionality."
   ]
  },
  {
   "attachments": {},
   "cell_type": "markdown",
   "metadata": {},
   "source": [
    "This video can be useful to understand the process of Convulation better:\n",
    "https://youtu.be/Y1qxI-Df4Lk "
   ]
  }
 ],
 "metadata": {
  "language_info": {
   "name": "python"
  },
  "orig_nbformat": 4
 },
 "nbformat": 4,
 "nbformat_minor": 2
}
